import pandas as pd

df = pd.read_csv("./data/patients.csv")

df.describe()

df['Sex'].value_counts()

df['Diagnosis'].value_counts()

# Visualize the data: Create a Simple Plot using matplotlib
import matplotlib.pyplot as plt

plt.plot(df['Age'], df['Cholesterol'], marker="o", linestyle='') # Scatter plot
plt.xlabel("Age")
plt.ylabel("Cholesterol")
plt.title("Cholesterol vs Age")
plt.show()